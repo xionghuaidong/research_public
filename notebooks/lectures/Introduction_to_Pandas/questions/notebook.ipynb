{
 "cells": [
  {
   "cell_type": "markdown",
   "metadata": {},
   "source": [
    "# Exercises: Introduction to pandas\n",
    "By Christopher van Hoecke, Maxwell Margenot\n",
    "\n",
    "## Lecture Link : \n",
    "https://www.quantopian.com/lectures/introduction-to-pandas\n",
    "\n",
    "### IMPORTANT NOTE: \n",
    "This lecture corresponds to the Introduction to Pandas lecture, which is part of the Quantopian lecture series. This homework expects you to rely heavily on the code presented in the corresponding lecture. Please copy and paste regularly from that lecture when starting to work on the problems, as trying to do them from scratch will likely be too difficult.\n",
    "\n",
    "Part of the Quantopian Lecture Series:\n",
    "\n",
    "* [www.quantopian.com/lectures](https://www.quantopian.com/lectures)\n",
    "* [github.com/quantopian/research_public](https://github.com/quantopian/research_public)\n",
    "\n",
    "\n",
    "\n",
    "----"
   ]
  },
  {
   "cell_type": "code",
   "execution_count": 1,
   "metadata": {},
   "outputs": [],
   "source": [
    "# Useful Functions\n",
    "import numpy as np\n",
    "import pandas as pd\n",
    "import matplotlib.pyplot as plt"
   ]
  },
  {
   "cell_type": "markdown",
   "metadata": {},
   "source": [
    "----"
   ]
  },
  {
   "cell_type": "markdown",
   "metadata": {},
   "source": [
    "# Exercise 1\n",
    "## a. Series \n",
    "Given an array of data, please create a pandas Series `s` with a datetime index starting `2016-01-01`. The index should be daily frequency and should be the same length as the data."
   ]
  },
  {
   "cell_type": "code",
   "execution_count": 5,
   "metadata": {},
   "outputs": [
    {
     "data": {
      "text/plain": [
       "2016-01-01    78\n",
       "2016-01-02    42\n",
       "2016-01-03    97\n",
       "2016-01-04    58\n",
       "2016-01-05    65\n",
       "              ..\n",
       "2018-09-22    94\n",
       "2018-09-23     5\n",
       "2018-09-24    19\n",
       "2018-09-25    87\n",
       "2018-09-26    34\n",
       "Freq: D, Length: 1000, dtype: int64"
      ]
     },
     "execution_count": 5,
     "metadata": {},
     "output_type": "execute_result"
    }
   ],
   "source": [
    "l = np.random.randint(1,100, size=1000)\n",
    "s = pd.Series(l)\n",
    "\n",
    "## Your code goes here\n",
    "s.index = pd.date_range('2016-01-01', periods=len(s), freq='D')\n",
    "s"
   ]
  },
  {
   "cell_type": "markdown",
   "metadata": {},
   "source": [
    "## b. Accessing Series Elements.\n",
    "- Print every other element of the first 50 elements of series `s`.\n",
    "- Find the value associated with the index `2017-02-20`."
   ]
  },
  {
   "cell_type": "code",
   "execution_count": 8,
   "metadata": {},
   "outputs": [
    {
     "name": "stdout",
     "output_type": "stream",
     "text": [
      "2016-01-01    78\n",
      "2016-01-03    97\n",
      "2016-01-05    65\n",
      "2016-01-07    45\n",
      "2016-01-09    71\n",
      "2016-01-11     6\n",
      "2016-01-13    94\n",
      "2016-01-15    98\n",
      "2016-01-17     2\n",
      "2016-01-19    70\n",
      "2016-01-21     1\n",
      "2016-01-23    20\n",
      "2016-01-25    91\n",
      "2016-01-27    80\n",
      "2016-01-29     2\n",
      "2016-01-31    62\n",
      "2016-02-02    55\n",
      "2016-02-04    74\n",
      "2016-02-06     4\n",
      "2016-02-08    58\n",
      "2016-02-10     7\n",
      "2016-02-12    68\n",
      "2016-02-14    71\n",
      "2016-02-16    47\n",
      "2016-02-18    60\n",
      "Freq: 2D, dtype: int64\n",
      "80\n"
     ]
    }
   ],
   "source": [
    "## Your code goes here\n",
    "print(s.iloc[:50:2])\n",
    "\n",
    "## Your code goes here\n",
    "print(s.loc['2017-02-20'])"
   ]
  },
  {
   "cell_type": "markdown",
   "metadata": {},
   "source": [
    "## c. Boolean Indexing.\n",
    "In the series `s`, print all the values between 1 and 3."
   ]
  },
  {
   "cell_type": "code",
   "execution_count": 13,
   "metadata": {},
   "outputs": [
    {
     "data": {
      "text/plain": [
       "2016-01-17    2\n",
       "2016-01-29    2\n",
       "2016-03-07    2\n",
       "2017-05-16    2\n",
       "2017-06-11    2\n",
       "2018-05-07    2\n",
       "2018-05-20    2\n",
       "2018-05-28    2\n",
       "2018-06-04    2\n",
       "2018-08-13    2\n",
       "dtype: int64"
      ]
     },
     "execution_count": 13,
     "metadata": {},
     "output_type": "execute_result"
    }
   ],
   "source": [
    "## Your code goes here\n",
    "s.loc[(1 < s) & (s < 3)]"
   ]
  },
  {
   "cell_type": "markdown",
   "metadata": {},
   "source": [
    "----"
   ]
  },
  {
   "cell_type": "markdown",
   "metadata": {},
   "source": [
    "# Exercise 2 : Indexing and time series. \n",
    "### a. Display\n",
    "Print the first and last 5 elements of the series `s`."
   ]
  },
  {
   "cell_type": "code",
   "execution_count": 14,
   "metadata": {},
   "outputs": [
    {
     "name": "stdout",
     "output_type": "stream",
     "text": [
      "2016-01-01    78\n",
      "2016-01-02    42\n",
      "2016-01-03    97\n",
      "2016-01-04    58\n",
      "2016-01-05    65\n",
      "Freq: D, dtype: int64\n",
      "2018-09-22    94\n",
      "2018-09-23     5\n",
      "2018-09-24    19\n",
      "2018-09-25    87\n",
      "2018-09-26    34\n",
      "Freq: D, dtype: int64\n"
     ]
    }
   ],
   "source": [
    "## Your code goes here\n",
    "print(s.iloc[:5])\n",
    "\n",
    "## Your code goes here\n",
    "print(s.iloc[-5:])"
   ]
  },
  {
   "cell_type": "markdown",
   "metadata": {},
   "source": [
    "### b. Resampling\n",
    "- Using the resample method, upsample the daily data to monthly frequency. Use the median method so that each monthly value is the median price of all the days in that month.\n",
    "- Take the daily data and fill in every day, including weekends and holidays, using forward-fills. "
   ]
  },
  {
   "cell_type": "code",
   "execution_count": 15,
   "metadata": {},
   "outputs": [],
   "source": [
    "# Use `pandas_datareader.DataReader` to simulate `get_pricing`.\n",
    "def get_pricing(symbol, start_date='2019-1-1', end_date='2021-12-31', fields='price'):\n",
    "    import pandas as pd\n",
    "    from pandas_datareader import DataReader\n",
    "    ticker_class = getattr(get_pricing, '_ticker_class', None)\n",
    "    if ticker_class is None:\n",
    "        class Ticker(object):\n",
    "            def __init__(self, symbol):\n",
    "                self.__symbol = symbol\n",
    "            @property\n",
    "            def symbol(self):\n",
    "                return self.__symbol\n",
    "            def __repr__(self):\n",
    "                return 'Equity([%s])' % self.symbol\n",
    "        ticker_class = get_pricing._ticker_class = Ticker\n",
    "    if fields != 'price':\n",
    "        message = \"fields must be 'price'\"\n",
    "        raise ValueError(message)\n",
    "    df = DataReader(symbol, 'yahoo', start=start_date, end=end_date)\n",
    "    prices = df.Close.tz_localize('UTC')\n",
    "    if isinstance(prices, pd.Series):\n",
    "        prices.name = ticker_class(symbol)\n",
    "    else:\n",
    "        prices.columns = [ticker_class(sym) for sym in symbol]\n",
    "    return prices"
   ]
  },
  {
   "cell_type": "code",
   "execution_count": 18,
   "metadata": {},
   "outputs": [
    {
     "data": {
      "text/plain": [
       "Date\n",
       "2012-01-31 00:00:00+00:00    355.505005\n",
       "2012-02-29 00:00:00+00:00    378.195007\n",
       "2012-03-31 00:00:00+00:00    408.994995\n",
       "2012-04-30 00:00:00+00:00    420.835007\n",
       "2012-05-31 00:00:00+00:00    405.240005\n",
       "2012-06-30 00:00:00+00:00    402.450012\n",
       "2012-07-31 00:00:00+00:00    380.470001\n",
       "2012-08-31 00:00:00+00:00    295.390015\n",
       "2012-09-30 00:00:00+00:00    332.809998\n",
       "2012-10-31 00:00:00+00:00    286.559998\n",
       "2012-11-30 00:00:00+00:00    263.779999\n",
       "2012-12-31 00:00:00+00:00    282.164993\n",
       "2013-01-31 00:00:00+00:00    299.589996\n",
       "2013-02-28 00:00:00+00:00    315.510010\n",
       "2013-03-31 00:00:00+00:00    321.555008\n",
       "2013-04-30 00:00:00+00:00    340.925003\n",
       "2013-05-31 00:00:00+00:00    369.820007\n",
       "2013-06-30 00:00:00+00:00    364.169998\n",
       "2013-07-31 00:00:00+00:00    386.299988\n",
       "2013-08-31 00:00:00+00:00    405.190002\n",
       "2013-09-30 00:00:00+00:00    418.880005\n",
       "2013-10-31 00:00:00+00:00    442.019989\n",
       "2013-11-30 00:00:00+00:00    535.929993\n",
       "2013-12-31 00:00:00+00:00    522.640015\n",
       "Freq: M, Name: Equity([CMG]), dtype: float64"
      ]
     },
     "execution_count": 18,
     "metadata": {},
     "output_type": "execute_result"
    }
   ],
   "source": [
    "symbol = \"CMG\"\n",
    "start = \"2012-01-01\"\n",
    "end = \"2016-01-01\"\n",
    "prices = get_pricing(symbol, start_date=start, end_date=end, fields=\"price\")\n",
    "\n",
    "## Your code goes here\n",
    "monthly_prices = prices.resample('M').median()\n",
    "monthly_prices.head(24)"
   ]
  },
  {
   "cell_type": "code",
   "execution_count": 19,
   "metadata": {},
   "outputs": [
    {
     "data": {
      "text/plain": [
       "2012-01-01 00:00:00+00:00           NaN\n",
       "2012-01-02 00:00:00+00:00           NaN\n",
       "2012-01-03 00:00:00+00:00    341.269989\n",
       "2012-01-04 00:00:00+00:00    348.750000\n",
       "2012-01-05 00:00:00+00:00    350.480011\n",
       "2012-01-06 00:00:00+00:00    348.950012\n",
       "2012-01-07 00:00:00+00:00    348.950012\n",
       "2012-01-08 00:00:00+00:00    348.950012\n",
       "2012-01-09 00:00:00+00:00    339.739990\n",
       "2012-01-10 00:00:00+00:00    341.119995\n",
       "2012-01-11 00:00:00+00:00    347.600006\n",
       "2012-01-12 00:00:00+00:00    347.619995\n",
       "2012-01-13 00:00:00+00:00    354.619995\n",
       "2012-01-14 00:00:00+00:00    354.619995\n",
       "2012-01-15 00:00:00+00:00    354.619995\n",
       "Freq: D, Name: Equity([CMG]), dtype: float64"
      ]
     },
     "execution_count": 19,
     "metadata": {},
     "output_type": "execute_result"
    }
   ],
   "source": [
    "## Your code goes here\n",
    "calendar_dates = pd.date_range(start=start, end=end, freq='D', tz='UTC')\n",
    "calendar_prices = prices.reindex(calendar_dates, method='ffill')\n",
    "calendar_prices.head(15)"
   ]
  },
  {
   "cell_type": "markdown",
   "metadata": {},
   "source": [
    "----"
   ]
  },
  {
   "cell_type": "markdown",
   "metadata": {},
   "source": [
    "# Exercise 3 : Missing Data\n",
    "- Replace all instances of `NaN` using the backward fill method. \n",
    "- Instead of filling, remove all instances of `NaN` from the data."
   ]
  },
  {
   "cell_type": "code",
   "execution_count": 21,
   "metadata": {},
   "outputs": [
    {
     "data": {
      "text/plain": [
       "2012-01-01 00:00:00+00:00    341.269989\n",
       "2012-01-02 00:00:00+00:00    341.269989\n",
       "2012-01-03 00:00:00+00:00    341.269989\n",
       "2012-01-04 00:00:00+00:00    348.750000\n",
       "2012-01-05 00:00:00+00:00    350.480011\n",
       "2012-01-06 00:00:00+00:00    348.950012\n",
       "2012-01-07 00:00:00+00:00    348.950012\n",
       "2012-01-08 00:00:00+00:00    348.950012\n",
       "2012-01-09 00:00:00+00:00    339.739990\n",
       "2012-01-10 00:00:00+00:00    341.119995\n",
       "Freq: D, Name: Equity([CMG]), dtype: float64"
      ]
     },
     "execution_count": 21,
     "metadata": {},
     "output_type": "execute_result"
    }
   ],
   "source": [
    "## Your code goes here\n",
    "bfilled_prices = calendar_prices.fillna(method='bfill')\n",
    "bfilled_prices.head(10)"
   ]
  },
  {
   "cell_type": "code",
   "execution_count": 22,
   "metadata": {
    "scrolled": true
   },
   "outputs": [
    {
     "data": {
      "text/plain": [
       "2012-01-03 00:00:00+00:00    341.269989\n",
       "2012-01-04 00:00:00+00:00    348.750000\n",
       "2012-01-05 00:00:00+00:00    350.480011\n",
       "2012-01-06 00:00:00+00:00    348.950012\n",
       "2012-01-07 00:00:00+00:00    348.950012\n",
       "2012-01-08 00:00:00+00:00    348.950012\n",
       "2012-01-09 00:00:00+00:00    339.739990\n",
       "2012-01-10 00:00:00+00:00    341.119995\n",
       "2012-01-11 00:00:00+00:00    347.600006\n",
       "2012-01-12 00:00:00+00:00    347.619995\n",
       "Freq: D, Name: Equity([CMG]), dtype: float64"
      ]
     },
     "execution_count": 22,
     "metadata": {},
     "output_type": "execute_result"
    }
   ],
   "source": [
    "## Your code goes here\n",
    "dropped_prices = calendar_prices.dropna()\n",
    "dropped_prices.head(10)"
   ]
  },
  {
   "cell_type": "markdown",
   "metadata": {},
   "source": [
    "----"
   ]
  },
  {
   "cell_type": "markdown",
   "metadata": {},
   "source": [
    "# Exercise 4 : Time Series Analysis with pandas\n",
    "## a. General Information\n",
    "Print the count, mean, standard deviation, minimum, 25th, 50th, and 75th percentiles, and the max of our series s. "
   ]
  },
  {
   "cell_type": "code",
   "execution_count": 23,
   "metadata": {},
   "outputs": [
    {
     "name": "stdout",
     "output_type": "stream",
     "text": [
      "Summary Statistics\n",
      "count    1000.000000\n",
      "mean       50.885000\n",
      "std        28.027046\n",
      "min         1.000000\n",
      "25%        27.000000\n",
      "50%        52.000000\n",
      "75%        74.000000\n",
      "max        99.000000\n",
      "dtype: float64\n"
     ]
    }
   ],
   "source": [
    "print(\"Summary Statistics\")\n",
    "## Your code goes here\n",
    "print(s.describe())"
   ]
  },
  {
   "cell_type": "markdown",
   "metadata": {},
   "source": [
    "## b. Series Operations\n",
    "- Get the additive and multiplicative returns of this series. \n",
    "- Calculate the rolling mean with a 60 day window.\n",
    "- Calculate the standard deviation with a 60 day window."
   ]
  },
  {
   "cell_type": "code",
   "execution_count": 25,
   "metadata": {
    "scrolled": true
   },
   "outputs": [
    {
     "name": "stdout",
     "output_type": "stream",
     "text": [
      "Date\n",
      "2016-01-05 00:00:00+00:00    0.028845\n",
      "2016-01-06 00:00:00+00:00   -0.471153\n",
      "2016-01-07 00:00:00+00:00   -1.230770\n",
      "2016-01-08 00:00:00+00:00   -0.500000\n",
      "2016-01-11 00:00:00+00:00    0.125000\n",
      "Name: Equity([GE]), dtype: float64\n",
      "Date\n",
      "2016-01-05 00:00:00+00:00    0.000977\n",
      "2016-01-06 00:00:00+00:00   -0.015940\n",
      "2016-01-07 00:00:00+00:00   -0.042314\n",
      "2016-01-08 00:00:00+00:00   -0.017950\n",
      "2016-01-11 00:00:00+00:00    0.004569\n",
      "Name: Equity([GE]), dtype: float64\n"
     ]
    }
   ],
   "source": [
    "data = get_pricing('GE', fields='price', start_date='2016-01-01', end_date='2017-01-01')\n",
    "\n",
    "## Your code goes here\n",
    "add_returns = data.diff()[1:]\n",
    "print(add_returns.head())\n",
    "\n",
    "## Your code goes here\n",
    "mult_returns = data.pct_change()[1:]\n",
    "print(mult_returns.head())"
   ]
  },
  {
   "cell_type": "code",
   "execution_count": 28,
   "metadata": {
    "scrolled": true
   },
   "outputs": [
    {
     "data": {
      "text/plain": [
       "Date\n",
       "2016-12-23 00:00:00+00:00    29.042147\n",
       "2016-12-27 00:00:00+00:00    29.078686\n",
       "2016-12-28 00:00:00+00:00    29.111699\n",
       "2016-12-29 00:00:00+00:00    29.147115\n",
       "2016-12-30 00:00:00+00:00    29.180769\n",
       "Name: 60-day rolling mean, dtype: float64"
      ]
     },
     "execution_count": 28,
     "metadata": {},
     "output_type": "execute_result"
    }
   ],
   "source": [
    "# Rolling mean\n",
    "\n",
    "## Your code goes here\n",
    "rolling_mean = data.rolling(60).mean()\n",
    "rolling_mean.name = \"60-day rolling mean\"\n",
    "rolling_mean.tail()"
   ]
  },
  {
   "cell_type": "code",
   "execution_count": 30,
   "metadata": {
    "scrolled": true
   },
   "outputs": [
    {
     "data": {
      "text/plain": [
       "Date\n",
       "2016-12-23 00:00:00+00:00    1.180726\n",
       "2016-12-27 00:00:00+00:00    1.196871\n",
       "2016-12-28 00:00:00+00:00    1.207905\n",
       "2016-12-29 00:00:00+00:00    1.216772\n",
       "2016-12-30 00:00:00+00:00    1.222694\n",
       "Name: 60-day rolling volatility, dtype: float64"
      ]
     },
     "execution_count": 30,
     "metadata": {},
     "output_type": "execute_result"
    }
   ],
   "source": [
    "# Rolling Standard Deviation\n",
    "\n",
    "## Your code goes here\n",
    "rolling_std = data.rolling(60).std()\n",
    "rolling_std.name = \"60-day rolling volatility\"\n",
    "rolling_std.tail()"
   ]
  },
  {
   "cell_type": "markdown",
   "metadata": {},
   "source": [
    "----"
   ]
  },
  {
   "cell_type": "markdown",
   "metadata": {},
   "source": [
    "# Exercise 5 : DataFrames\n",
    "## a. Indexing\n",
    "Form a DataFrame out of `dict_data` with `l` as its index."
   ]
  },
  {
   "cell_type": "code",
   "execution_count": 32,
   "metadata": {
    "scrolled": false
   },
   "outputs": [
    {
     "data": {
      "text/html": [
       "<div>\n",
       "<style scoped>\n",
       "    .dataframe tbody tr th:only-of-type {\n",
       "        vertical-align: middle;\n",
       "    }\n",
       "\n",
       "    .dataframe tbody tr th {\n",
       "        vertical-align: top;\n",
       "    }\n",
       "\n",
       "    .dataframe thead th {\n",
       "        text-align: right;\n",
       "    }\n",
       "</style>\n",
       "<table border=\"1\" class=\"dataframe\">\n",
       "  <thead>\n",
       "    <tr style=\"text-align: right;\">\n",
       "      <th></th>\n",
       "      <th>a</th>\n",
       "      <th>b</th>\n",
       "      <th>c</th>\n",
       "    </tr>\n",
       "  </thead>\n",
       "  <tbody>\n",
       "    <tr>\n",
       "      <th>second</th>\n",
       "      <td>1</td>\n",
       "      <td>L</td>\n",
       "      <td>1.052030</td>\n",
       "    </tr>\n",
       "    <tr>\n",
       "      <th>first</th>\n",
       "      <td>2</td>\n",
       "      <td>K</td>\n",
       "      <td>-0.256763</td>\n",
       "    </tr>\n",
       "    <tr>\n",
       "      <th>fifth</th>\n",
       "      <td>3</td>\n",
       "      <td>J</td>\n",
       "      <td>0.812633</td>\n",
       "    </tr>\n",
       "    <tr>\n",
       "      <th>third</th>\n",
       "      <td>4</td>\n",
       "      <td>M</td>\n",
       "      <td>-0.079486</td>\n",
       "    </tr>\n",
       "    <tr>\n",
       "      <th>fourth</th>\n",
       "      <td>5</td>\n",
       "      <td>Z</td>\n",
       "      <td>0.842871</td>\n",
       "    </tr>\n",
       "  </tbody>\n",
       "</table>\n",
       "</div>"
      ],
      "text/plain": [
       "        a  b         c\n",
       "second  1  L  1.052030\n",
       "first   2  K -0.256763\n",
       "fifth   3  J  0.812633\n",
       "third   4  M -0.079486\n",
       "fourth  5  Z  0.842871"
      ]
     },
     "execution_count": 32,
     "metadata": {},
     "output_type": "execute_result"
    }
   ],
   "source": [
    "l = {'fifth','fourth', 'third', 'second', 'first'}\n",
    "dict_data = {'a' : [1, 2, 3, 4, 5], 'b' : ['L', 'K', 'J', 'M', 'Z'],'c' : np.random.normal(0, 1, 5)}\n",
    "\n",
    "## Your code goes here\n",
    "frame_data = pd.DataFrame(dict_data, index=l)\n",
    "frame_data"
   ]
  },
  {
   "cell_type": "markdown",
   "metadata": {},
   "source": [
    "## b. DataFrames Manipulation\n",
    "- Concatenate the following two series to form a dataframe. \n",
    "- Rename the columns to `Good Numbers` and `Bad Numbers`. \n",
    "- Change the index to be a datetime index starting on `2016-01-01`."
   ]
  },
  {
   "cell_type": "code",
   "execution_count": 35,
   "metadata": {
    "scrolled": false
   },
   "outputs": [
    {
     "name": "stdout",
     "output_type": "stream",
     "text": [
      "   prime  other\n",
      "0      2      1\n",
      "1      3      4\n",
      "2      5      6\n",
      "3      7      8\n",
      "4     11      9\n",
      "5     13     10\n",
      "   Good Numbers  Bad Numbers\n",
      "0             2            1\n",
      "1             3            4\n",
      "2             5            6\n",
      "3             7            8\n",
      "4            11            9\n",
      "5            13           10\n",
      "            Good Numbers  Bad Numbers\n",
      "2016-01-01             2            1\n",
      "2016-01-02             3            4\n",
      "2016-01-03             5            6\n",
      "2016-01-04             7            8\n",
      "2016-01-05            11            9\n",
      "2016-01-06            13           10\n"
     ]
    }
   ],
   "source": [
    "s1 = pd.Series([2, 3, 5, 7, 11, 13], name='prime')\n",
    "s2 = pd.Series([1, 4, 6, 8, 9, 10], name='other')\n",
    "\n",
    "## Your code goes here\n",
    "numbers = pd.concat([s1, s2], axis=1)\n",
    "print(numbers)\n",
    "\n",
    "## Your code goes here\n",
    "numbers.columns = ['Good Numbers', 'Bad Numbers']\n",
    "print(numbers)\n",
    "\n",
    "## Your code goes here\n",
    "numbers.index = pd.date_range(start='2016-01-01', periods=len(numbers), freq='D')\n",
    "print(numbers)"
   ]
  },
  {
   "cell_type": "markdown",
   "metadata": {},
   "source": [
    "----"
   ]
  },
  {
   "cell_type": "markdown",
   "metadata": {},
   "source": [
    "# Exercise 6 : Accessing DataFrame elements.\n",
    "## a. Columns\n",
    "- Check the data type of one of the DataFrame's columns.\n",
    "- Print the values associated with time range `2013-01-01` to `2013-01-10`."
   ]
  },
  {
   "cell_type": "code",
   "execution_count": 45,
   "metadata": {},
   "outputs": [
    {
     "data": {
      "text/plain": [
       "Date\n",
       "2012-01-03 00:00:00+00:00    86.000000\n",
       "2012-01-04 00:00:00+00:00    86.019997\n",
       "2012-01-05 00:00:00+00:00    85.760002\n",
       "2012-01-06 00:00:00+00:00    85.120003\n",
       "2012-01-09 00:00:00+00:00    85.500000\n",
       "Name: XOM, dtype: float64"
      ]
     },
     "execution_count": 45,
     "metadata": {},
     "output_type": "execute_result"
    }
   ],
   "source": [
    "symbol = [\"XOM\", \"BP\", \"COP\", \"TOT\"]\n",
    "start = \"2012-01-01\"\n",
    "end = \"2016-01-01\"\n",
    "prices = get_pricing(symbol, start_date=start, end_date=end, fields=\"price\")\n",
    "if isinstance(symbol, list):\n",
    "    prices.columns = map(lambda x: x.symbol, prices.columns)\n",
    "else:\n",
    "    prices.name = symbol\n",
    "\n",
    "# Check Type of Data for these two.    \n",
    "prices.XOM.head()\n",
    "prices.loc[:, 'XOM'].head()"
   ]
  },
  {
   "cell_type": "code",
   "execution_count": 46,
   "metadata": {},
   "outputs": [
    {
     "name": "stdout",
     "output_type": "stream",
     "text": [
      "<class 'pandas.core.series.Series'>\n"
     ]
    }
   ],
   "source": [
    "## Your code goes here\n",
    "print(type(prices.XOM))"
   ]
  },
  {
   "cell_type": "code",
   "execution_count": 47,
   "metadata": {},
   "outputs": [
    {
     "name": "stdout",
     "output_type": "stream",
     "text": [
      "                                 XOM         BP        COP        TOT\n",
      "Date                                                                 \n",
      "2013-01-02 00:00:00+00:00  88.709999  42.419998  59.209999  52.570000\n",
      "2013-01-03 00:00:00+00:00  88.550003  43.270000  59.169998  52.180000\n",
      "2013-01-04 00:00:00+00:00  88.959999  43.660000  59.830002  52.310001\n",
      "2013-01-07 00:00:00+00:00  87.930000  43.400002  59.169998  51.689999\n",
      "2013-01-08 00:00:00+00:00  88.480003  43.400002  58.369999  51.580002\n",
      "2013-01-09 00:00:00+00:00  88.139999  44.270000  58.250000  51.549999\n",
      "2013-01-10 00:00:00+00:00  89.099998  45.009998  58.500000  52.380001\n"
     ]
    }
   ],
   "source": [
    "## Your code goes here\n",
    "print(prices.loc['2013-01-01':'2013-01-10'])"
   ]
  },
  {
   "cell_type": "markdown",
   "metadata": {},
   "source": [
    "----"
   ]
  },
  {
   "cell_type": "markdown",
   "metadata": {},
   "source": [
    "# Exercise 7 : Boolean Indexing\n",
    "## a. Filtering.\n",
    "- Filter pricing data from the last question (stored in `prices`) to only print values where:\n",
    "    - BP > 30\n",
    "    - XOM < 100\n",
    "    - The intersection of both above conditions (BP > 30 **and** XOM < 100)\n",
    "    - The union of the previous composite condition along with TOT having no `nan` values ((BP > 30 **and** XOM < 100) **or** TOT is non-`NaN`).\n",
    "- Add a column for TSLA and drop the column for XOM."
   ]
  },
  {
   "cell_type": "code",
   "execution_count": 48,
   "metadata": {},
   "outputs": [
    {
     "name": "stdout",
     "output_type": "stream",
     "text": [
      "                                 XOM         BP        COP        TOT\n",
      "Date                                                                 \n",
      "2012-01-03 00:00:00+00:00  86.000000  44.139999  56.541019  52.470001\n",
      "2012-01-04 00:00:00+00:00  86.019997  44.750000  56.274208  52.270000\n",
      "2012-01-05 00:00:00+00:00  85.760002  44.250000  55.824444  51.209999\n",
      "2012-01-06 00:00:00+00:00  85.120003  44.080002  55.389919  50.750000\n",
      "2012-01-09 00:00:00+00:00  85.500000  44.070000  55.603371  51.250000\n",
      "...                              ...        ...        ...        ...\n",
      "2015-12-24 00:00:00+00:00  79.330002  32.119999  48.590000  45.889999\n",
      "2015-12-28 00:00:00+00:00  78.739998  31.709999  47.189999  45.369999\n",
      "2015-12-29 00:00:00+00:00  79.160004  31.870001  47.770000  45.849998\n",
      "2015-12-30 00:00:00+00:00  78.110001  31.309999  46.599998  45.160000\n",
      "2015-12-31 00:00:00+00:00  77.949997  31.260000  46.689999  44.950001\n",
      "\n",
      "[1003 rows x 4 columns]\n",
      "                                 XOM         BP        COP        TOT\n",
      "Date                                                                 \n",
      "2012-01-03 00:00:00+00:00  86.000000  44.139999  56.541019  52.470001\n",
      "2012-01-04 00:00:00+00:00  86.019997  44.750000  56.274208  52.270000\n",
      "2012-01-05 00:00:00+00:00  85.760002  44.250000  55.824444  51.209999\n",
      "2012-01-06 00:00:00+00:00  85.120003  44.080002  55.389919  50.750000\n",
      "2012-01-09 00:00:00+00:00  85.500000  44.070000  55.603371  51.250000\n",
      "...                              ...        ...        ...        ...\n",
      "2015-12-24 00:00:00+00:00  79.330002  32.119999  48.590000  45.889999\n",
      "2015-12-28 00:00:00+00:00  78.739998  31.709999  47.189999  45.369999\n",
      "2015-12-29 00:00:00+00:00  79.160004  31.870001  47.770000  45.849998\n",
      "2015-12-30 00:00:00+00:00  78.110001  31.309999  46.599998  45.160000\n",
      "2015-12-31 00:00:00+00:00  77.949997  31.260000  46.689999  44.950001\n",
      "\n",
      "[927 rows x 4 columns]\n",
      "                                 XOM         BP        COP        TOT\n",
      "Date                                                                 \n",
      "2012-01-03 00:00:00+00:00  86.000000  44.139999  56.541019  52.470001\n",
      "2012-01-04 00:00:00+00:00  86.019997  44.750000  56.274208  52.270000\n",
      "2012-01-05 00:00:00+00:00  85.760002  44.250000  55.824444  51.209999\n",
      "2012-01-06 00:00:00+00:00  85.120003  44.080002  55.389919  50.750000\n",
      "2012-01-09 00:00:00+00:00  85.500000  44.070000  55.603371  51.250000\n",
      "...                              ...        ...        ...        ...\n",
      "2015-12-24 00:00:00+00:00  79.330002  32.119999  48.590000  45.889999\n",
      "2015-12-28 00:00:00+00:00  78.739998  31.709999  47.189999  45.369999\n",
      "2015-12-29 00:00:00+00:00  79.160004  31.870001  47.770000  45.849998\n",
      "2015-12-30 00:00:00+00:00  78.110001  31.309999  46.599998  45.160000\n",
      "2015-12-31 00:00:00+00:00  77.949997  31.260000  46.689999  44.950001\n",
      "\n",
      "[924 rows x 4 columns]\n",
      "                                 XOM         BP        COP        TOT\n",
      "Date                                                                 \n",
      "2012-01-03 00:00:00+00:00  86.000000  44.139999  56.541019  52.470001\n",
      "2012-01-04 00:00:00+00:00  86.019997  44.750000  56.274208  52.270000\n",
      "2012-01-05 00:00:00+00:00  85.760002  44.250000  55.824444  51.209999\n",
      "2012-01-06 00:00:00+00:00  85.120003  44.080002  55.389919  50.750000\n",
      "2012-01-09 00:00:00+00:00  85.500000  44.070000  55.603371  51.250000\n",
      "...                              ...        ...        ...        ...\n",
      "2015-12-24 00:00:00+00:00  79.330002  32.119999  48.590000  45.889999\n",
      "2015-12-28 00:00:00+00:00  78.739998  31.709999  47.189999  45.369999\n",
      "2015-12-29 00:00:00+00:00  79.160004  31.870001  47.770000  45.849998\n",
      "2015-12-30 00:00:00+00:00  78.110001  31.309999  46.599998  45.160000\n",
      "2015-12-31 00:00:00+00:00  77.949997  31.260000  46.689999  44.950001\n",
      "\n",
      "[1006 rows x 4 columns]\n"
     ]
    }
   ],
   "source": [
    "# Filter the data for prices to only print out values where\n",
    "# BP > 30\n",
    "print(prices.loc[prices.BP > 30])\n",
    "\n",
    "# XOM < 100\n",
    "print(prices.loc[prices.XOM < 100])\n",
    "\n",
    "# BP > 30 AND XOM < 100\n",
    "print(prices.loc[(prices.BP > 30) & (prices.XOM < 100)])\n",
    "\n",
    "# The union of (BP > 30 AND XOM < 100) with TOT being non-nan\n",
    "print(prices.loc[(prices.BP > 30) & (prices.XOM < 100) | (~prices.TOT.isnull())])"
   ]
  },
  {
   "cell_type": "code",
   "execution_count": 49,
   "metadata": {},
   "outputs": [
    {
     "data": {
      "text/html": [
       "<div>\n",
       "<style scoped>\n",
       "    .dataframe tbody tr th:only-of-type {\n",
       "        vertical-align: middle;\n",
       "    }\n",
       "\n",
       "    .dataframe tbody tr th {\n",
       "        vertical-align: top;\n",
       "    }\n",
       "\n",
       "    .dataframe thead th {\n",
       "        text-align: right;\n",
       "    }\n",
       "</style>\n",
       "<table border=\"1\" class=\"dataframe\">\n",
       "  <thead>\n",
       "    <tr style=\"text-align: right;\">\n",
       "      <th></th>\n",
       "      <th>BP</th>\n",
       "      <th>COP</th>\n",
       "      <th>TOT</th>\n",
       "      <th>TSLA</th>\n",
       "    </tr>\n",
       "    <tr>\n",
       "      <th>Date</th>\n",
       "      <th></th>\n",
       "      <th></th>\n",
       "      <th></th>\n",
       "      <th></th>\n",
       "    </tr>\n",
       "  </thead>\n",
       "  <tbody>\n",
       "    <tr>\n",
       "      <th>2012-01-03 00:00:00+00:00</th>\n",
       "      <td>44.139999</td>\n",
       "      <td>56.541019</td>\n",
       "      <td>52.470001</td>\n",
       "      <td>5.616</td>\n",
       "    </tr>\n",
       "    <tr>\n",
       "      <th>2012-01-04 00:00:00+00:00</th>\n",
       "      <td>44.750000</td>\n",
       "      <td>56.274208</td>\n",
       "      <td>52.270000</td>\n",
       "      <td>5.542</td>\n",
       "    </tr>\n",
       "    <tr>\n",
       "      <th>2012-01-05 00:00:00+00:00</th>\n",
       "      <td>44.250000</td>\n",
       "      <td>55.824444</td>\n",
       "      <td>51.209999</td>\n",
       "      <td>5.424</td>\n",
       "    </tr>\n",
       "    <tr>\n",
       "      <th>2012-01-06 00:00:00+00:00</th>\n",
       "      <td>44.080002</td>\n",
       "      <td>55.389919</td>\n",
       "      <td>50.750000</td>\n",
       "      <td>5.382</td>\n",
       "    </tr>\n",
       "    <tr>\n",
       "      <th>2012-01-09 00:00:00+00:00</th>\n",
       "      <td>44.070000</td>\n",
       "      <td>55.603371</td>\n",
       "      <td>51.250000</td>\n",
       "      <td>5.450</td>\n",
       "    </tr>\n",
       "  </tbody>\n",
       "</table>\n",
       "</div>"
      ],
      "text/plain": [
       "                                  BP        COP        TOT   TSLA\n",
       "Date                                                             \n",
       "2012-01-03 00:00:00+00:00  44.139999  56.541019  52.470001  5.616\n",
       "2012-01-04 00:00:00+00:00  44.750000  56.274208  52.270000  5.542\n",
       "2012-01-05 00:00:00+00:00  44.250000  55.824444  51.209999  5.424\n",
       "2012-01-06 00:00:00+00:00  44.080002  55.389919  50.750000  5.382\n",
       "2012-01-09 00:00:00+00:00  44.070000  55.603371  51.250000  5.450"
      ]
     },
     "execution_count": 49,
     "metadata": {},
     "output_type": "execute_result"
    }
   ],
   "source": [
    "# Add a column for TSLA and drop the column for XOM\n",
    "prices.loc[:, 'TSLA'] = get_pricing('TSLA', start_date=start, end_date=end, fields=\"price\")\n",
    "prices = prices.drop('XOM', axis=1)\n",
    "prices.head()"
   ]
  },
  {
   "cell_type": "code",
   "execution_count": 50,
   "metadata": {
    "scrolled": true
   },
   "outputs": [
    {
     "data": {
      "text/plain": [
       "Date\n",
       "2012-01-03 00:00:00+00:00     5.616000\n",
       "2012-01-04 00:00:00+00:00     5.542000\n",
       "2012-01-05 00:00:00+00:00     5.424000\n",
       "2012-01-06 00:00:00+00:00     5.382000\n",
       "2012-01-09 00:00:00+00:00     5.450000\n",
       "                               ...    \n",
       "2015-12-24 00:00:00+00:00    46.113998\n",
       "2015-12-28 00:00:00+00:00    45.790001\n",
       "2015-12-29 00:00:00+00:00    47.438000\n",
       "2015-12-30 00:00:00+00:00    47.618000\n",
       "2015-12-31 00:00:00+00:00    48.001999\n",
       "Name: Equity([TSLA]), Length: 1006, dtype: float64"
      ]
     },
     "execution_count": 50,
     "metadata": {},
     "output_type": "execute_result"
    }
   ],
   "source": [
    "get_pricing('TSLA', start_date=start, end_date=end, fields=\"price\")"
   ]
  },
  {
   "cell_type": "code",
   "execution_count": 53,
   "metadata": {},
   "outputs": [
    {
     "data": {
      "text/plain": [
       "Date\n",
       "2012-01-03     5.616000\n",
       "2012-01-04     5.542000\n",
       "2012-01-05     5.424000\n",
       "2012-01-06     5.382000\n",
       "2012-01-09     5.450000\n",
       "                ...    \n",
       "2015-12-24    46.113998\n",
       "2015-12-28    45.790001\n",
       "2015-12-29    47.438000\n",
       "2015-12-30    47.618000\n",
       "2015-12-31    48.001999\n",
       "Name: Adj Close, Length: 1006, dtype: float64"
      ]
     },
     "execution_count": 53,
     "metadata": {},
     "output_type": "execute_result"
    }
   ],
   "source": [
    "from pandas_datareader import DataReader\n",
    "df = DataReader('TSLA', 'yahoo', start=start, end=end)\n",
    "df.loc[:, 'Adj Close']"
   ]
  },
  {
   "cell_type": "markdown",
   "metadata": {},
   "source": [
    "## b. DataFrame Manipulation (again)\n",
    "- Concatenate these DataFrames.\n",
    "- Fill the missing data with 0s"
   ]
  },
  {
   "cell_type": "code",
   "execution_count": 55,
   "metadata": {
    "scrolled": false
   },
   "outputs": [
    {
     "name": "stderr",
     "output_type": "stream",
     "text": [
      "/home/huaidong.xhd/Documents/envs/jupyter-pyenv/python-env/.pyenv/versions/3.7.7/lib/python3.7/site-packages/pandas_datareader/base.py:272: SymbolWarning: Failed to read symbol: 'VXX', replacing with NaN.\n",
      "  warnings.warn(msg.format(sym), SymbolWarning)\n"
     ]
    },
    {
     "data": {
      "text/html": [
       "<div>\n",
       "<style scoped>\n",
       "    .dataframe tbody tr th:only-of-type {\n",
       "        vertical-align: middle;\n",
       "    }\n",
       "\n",
       "    .dataframe tbody tr th {\n",
       "        vertical-align: top;\n",
       "    }\n",
       "\n",
       "    .dataframe thead th {\n",
       "        text-align: right;\n",
       "    }\n",
       "</style>\n",
       "<table border=\"1\" class=\"dataframe\">\n",
       "  <thead>\n",
       "    <tr style=\"text-align: right;\">\n",
       "      <th></th>\n",
       "      <th>Equity([SPY])</th>\n",
       "      <th>Equity([VXX])</th>\n",
       "      <th>Equity([MSFT])</th>\n",
       "      <th>Equity([AAPL])</th>\n",
       "      <th>Equity([GOOG])</th>\n",
       "    </tr>\n",
       "    <tr>\n",
       "      <th>Date</th>\n",
       "      <th></th>\n",
       "      <th></th>\n",
       "      <th></th>\n",
       "      <th></th>\n",
       "      <th></th>\n",
       "    </tr>\n",
       "  </thead>\n",
       "  <tbody>\n",
       "    <tr>\n",
       "      <th>2012-01-03 00:00:00+00:00</th>\n",
       "      <td>127.500000</td>\n",
       "      <td>NaN</td>\n",
       "      <td>26.770000</td>\n",
       "      <td>14.686786</td>\n",
       "      <td>331.462585</td>\n",
       "    </tr>\n",
       "    <tr>\n",
       "      <th>2012-01-04 00:00:00+00:00</th>\n",
       "      <td>127.699997</td>\n",
       "      <td>NaN</td>\n",
       "      <td>27.400000</td>\n",
       "      <td>14.765714</td>\n",
       "      <td>332.892242</td>\n",
       "    </tr>\n",
       "    <tr>\n",
       "      <th>2012-01-05 00:00:00+00:00</th>\n",
       "      <td>128.039993</td>\n",
       "      <td>NaN</td>\n",
       "      <td>27.680000</td>\n",
       "      <td>14.929643</td>\n",
       "      <td>328.274536</td>\n",
       "    </tr>\n",
       "    <tr>\n",
       "      <th>2012-01-06 00:00:00+00:00</th>\n",
       "      <td>127.709999</td>\n",
       "      <td>NaN</td>\n",
       "      <td>28.110001</td>\n",
       "      <td>15.085714</td>\n",
       "      <td>323.796326</td>\n",
       "    </tr>\n",
       "    <tr>\n",
       "      <th>2012-01-09 00:00:00+00:00</th>\n",
       "      <td>128.020004</td>\n",
       "      <td>NaN</td>\n",
       "      <td>27.740000</td>\n",
       "      <td>15.061786</td>\n",
       "      <td>310.067780</td>\n",
       "    </tr>\n",
       "    <tr>\n",
       "      <th>...</th>\n",
       "      <td>...</td>\n",
       "      <td>...</td>\n",
       "      <td>...</td>\n",
       "      <td>...</td>\n",
       "      <td>...</td>\n",
       "    </tr>\n",
       "    <tr>\n",
       "      <th>2015-12-24 00:00:00+00:00</th>\n",
       "      <td>205.679993</td>\n",
       "      <td>NaN</td>\n",
       "      <td>55.669998</td>\n",
       "      <td>27.007500</td>\n",
       "      <td>748.400024</td>\n",
       "    </tr>\n",
       "    <tr>\n",
       "      <th>2015-12-28 00:00:00+00:00</th>\n",
       "      <td>205.210007</td>\n",
       "      <td>NaN</td>\n",
       "      <td>55.950001</td>\n",
       "      <td>26.705000</td>\n",
       "      <td>762.510010</td>\n",
       "    </tr>\n",
       "    <tr>\n",
       "      <th>2015-12-29 00:00:00+00:00</th>\n",
       "      <td>207.399994</td>\n",
       "      <td>NaN</td>\n",
       "      <td>56.549999</td>\n",
       "      <td>27.184999</td>\n",
       "      <td>776.599976</td>\n",
       "    </tr>\n",
       "    <tr>\n",
       "      <th>2015-12-30 00:00:00+00:00</th>\n",
       "      <td>205.929993</td>\n",
       "      <td>NaN</td>\n",
       "      <td>56.310001</td>\n",
       "      <td>26.830000</td>\n",
       "      <td>771.000000</td>\n",
       "    </tr>\n",
       "    <tr>\n",
       "      <th>2015-12-31 00:00:00+00:00</th>\n",
       "      <td>203.869995</td>\n",
       "      <td>NaN</td>\n",
       "      <td>55.480000</td>\n",
       "      <td>26.315001</td>\n",
       "      <td>758.880005</td>\n",
       "    </tr>\n",
       "  </tbody>\n",
       "</table>\n",
       "<p>1006 rows × 5 columns</p>\n",
       "</div>"
      ],
      "text/plain": [
       "                           Equity([SPY])  Equity([VXX])  Equity([MSFT])  \\\n",
       "Date                                                                      \n",
       "2012-01-03 00:00:00+00:00     127.500000            NaN       26.770000   \n",
       "2012-01-04 00:00:00+00:00     127.699997            NaN       27.400000   \n",
       "2012-01-05 00:00:00+00:00     128.039993            NaN       27.680000   \n",
       "2012-01-06 00:00:00+00:00     127.709999            NaN       28.110001   \n",
       "2012-01-09 00:00:00+00:00     128.020004            NaN       27.740000   \n",
       "...                                  ...            ...             ...   \n",
       "2015-12-24 00:00:00+00:00     205.679993            NaN       55.669998   \n",
       "2015-12-28 00:00:00+00:00     205.210007            NaN       55.950001   \n",
       "2015-12-29 00:00:00+00:00     207.399994            NaN       56.549999   \n",
       "2015-12-30 00:00:00+00:00     205.929993            NaN       56.310001   \n",
       "2015-12-31 00:00:00+00:00     203.869995            NaN       55.480000   \n",
       "\n",
       "                           Equity([AAPL])  Equity([GOOG])  \n",
       "Date                                                       \n",
       "2012-01-03 00:00:00+00:00       14.686786      331.462585  \n",
       "2012-01-04 00:00:00+00:00       14.765714      332.892242  \n",
       "2012-01-05 00:00:00+00:00       14.929643      328.274536  \n",
       "2012-01-06 00:00:00+00:00       15.085714      323.796326  \n",
       "2012-01-09 00:00:00+00:00       15.061786      310.067780  \n",
       "...                                   ...             ...  \n",
       "2015-12-24 00:00:00+00:00       27.007500      748.400024  \n",
       "2015-12-28 00:00:00+00:00       26.705000      762.510010  \n",
       "2015-12-29 00:00:00+00:00       27.184999      776.599976  \n",
       "2015-12-30 00:00:00+00:00       26.830000      771.000000  \n",
       "2015-12-31 00:00:00+00:00       26.315001      758.880005  \n",
       "\n",
       "[1006 rows x 5 columns]"
      ]
     },
     "execution_count": 55,
     "metadata": {},
     "output_type": "execute_result"
    }
   ],
   "source": [
    "# Concatenate these dataframes\n",
    "df_1 = get_pricing(['SPY', 'VXX'], start_date=start, end_date=end, fields='price')\n",
    "df_2 = get_pricing(['MSFT', 'AAPL', 'GOOG'], start_date=start, end_date=end, fields='price')\n",
    "\n",
    "## Your code goes here\n",
    "df_3 = pd.concat([df_1, df_2], axis=1)\n",
    "df_3"
   ]
  },
  {
   "cell_type": "code",
   "execution_count": 56,
   "metadata": {},
   "outputs": [
    {
     "data": {
      "text/html": [
       "<div>\n",
       "<style scoped>\n",
       "    .dataframe tbody tr th:only-of-type {\n",
       "        vertical-align: middle;\n",
       "    }\n",
       "\n",
       "    .dataframe tbody tr th {\n",
       "        vertical-align: top;\n",
       "    }\n",
       "\n",
       "    .dataframe thead th {\n",
       "        text-align: right;\n",
       "    }\n",
       "</style>\n",
       "<table border=\"1\" class=\"dataframe\">\n",
       "  <thead>\n",
       "    <tr style=\"text-align: right;\">\n",
       "      <th></th>\n",
       "      <th>Equity([SPY])</th>\n",
       "      <th>Equity([VXX])</th>\n",
       "      <th>Equity([MSFT])</th>\n",
       "      <th>Equity([AAPL])</th>\n",
       "      <th>Equity([GOOG])</th>\n",
       "    </tr>\n",
       "    <tr>\n",
       "      <th>Date</th>\n",
       "      <th></th>\n",
       "      <th></th>\n",
       "      <th></th>\n",
       "      <th></th>\n",
       "      <th></th>\n",
       "    </tr>\n",
       "  </thead>\n",
       "  <tbody>\n",
       "    <tr>\n",
       "      <th>2012-01-03 00:00:00+00:00</th>\n",
       "      <td>127.500000</td>\n",
       "      <td>0.0</td>\n",
       "      <td>26.770000</td>\n",
       "      <td>14.686786</td>\n",
       "      <td>331.462585</td>\n",
       "    </tr>\n",
       "    <tr>\n",
       "      <th>2012-01-04 00:00:00+00:00</th>\n",
       "      <td>127.699997</td>\n",
       "      <td>0.0</td>\n",
       "      <td>27.400000</td>\n",
       "      <td>14.765714</td>\n",
       "      <td>332.892242</td>\n",
       "    </tr>\n",
       "    <tr>\n",
       "      <th>2012-01-05 00:00:00+00:00</th>\n",
       "      <td>128.039993</td>\n",
       "      <td>0.0</td>\n",
       "      <td>27.680000</td>\n",
       "      <td>14.929643</td>\n",
       "      <td>328.274536</td>\n",
       "    </tr>\n",
       "    <tr>\n",
       "      <th>2012-01-06 00:00:00+00:00</th>\n",
       "      <td>127.709999</td>\n",
       "      <td>0.0</td>\n",
       "      <td>28.110001</td>\n",
       "      <td>15.085714</td>\n",
       "      <td>323.796326</td>\n",
       "    </tr>\n",
       "    <tr>\n",
       "      <th>2012-01-09 00:00:00+00:00</th>\n",
       "      <td>128.020004</td>\n",
       "      <td>0.0</td>\n",
       "      <td>27.740000</td>\n",
       "      <td>15.061786</td>\n",
       "      <td>310.067780</td>\n",
       "    </tr>\n",
       "    <tr>\n",
       "      <th>...</th>\n",
       "      <td>...</td>\n",
       "      <td>...</td>\n",
       "      <td>...</td>\n",
       "      <td>...</td>\n",
       "      <td>...</td>\n",
       "    </tr>\n",
       "    <tr>\n",
       "      <th>2015-12-24 00:00:00+00:00</th>\n",
       "      <td>205.679993</td>\n",
       "      <td>0.0</td>\n",
       "      <td>55.669998</td>\n",
       "      <td>27.007500</td>\n",
       "      <td>748.400024</td>\n",
       "    </tr>\n",
       "    <tr>\n",
       "      <th>2015-12-28 00:00:00+00:00</th>\n",
       "      <td>205.210007</td>\n",
       "      <td>0.0</td>\n",
       "      <td>55.950001</td>\n",
       "      <td>26.705000</td>\n",
       "      <td>762.510010</td>\n",
       "    </tr>\n",
       "    <tr>\n",
       "      <th>2015-12-29 00:00:00+00:00</th>\n",
       "      <td>207.399994</td>\n",
       "      <td>0.0</td>\n",
       "      <td>56.549999</td>\n",
       "      <td>27.184999</td>\n",
       "      <td>776.599976</td>\n",
       "    </tr>\n",
       "    <tr>\n",
       "      <th>2015-12-30 00:00:00+00:00</th>\n",
       "      <td>205.929993</td>\n",
       "      <td>0.0</td>\n",
       "      <td>56.310001</td>\n",
       "      <td>26.830000</td>\n",
       "      <td>771.000000</td>\n",
       "    </tr>\n",
       "    <tr>\n",
       "      <th>2015-12-31 00:00:00+00:00</th>\n",
       "      <td>203.869995</td>\n",
       "      <td>0.0</td>\n",
       "      <td>55.480000</td>\n",
       "      <td>26.315001</td>\n",
       "      <td>758.880005</td>\n",
       "    </tr>\n",
       "  </tbody>\n",
       "</table>\n",
       "<p>1006 rows × 5 columns</p>\n",
       "</div>"
      ],
      "text/plain": [
       "                           Equity([SPY])  Equity([VXX])  Equity([MSFT])  \\\n",
       "Date                                                                      \n",
       "2012-01-03 00:00:00+00:00     127.500000            0.0       26.770000   \n",
       "2012-01-04 00:00:00+00:00     127.699997            0.0       27.400000   \n",
       "2012-01-05 00:00:00+00:00     128.039993            0.0       27.680000   \n",
       "2012-01-06 00:00:00+00:00     127.709999            0.0       28.110001   \n",
       "2012-01-09 00:00:00+00:00     128.020004            0.0       27.740000   \n",
       "...                                  ...            ...             ...   \n",
       "2015-12-24 00:00:00+00:00     205.679993            0.0       55.669998   \n",
       "2015-12-28 00:00:00+00:00     205.210007            0.0       55.950001   \n",
       "2015-12-29 00:00:00+00:00     207.399994            0.0       56.549999   \n",
       "2015-12-30 00:00:00+00:00     205.929993            0.0       56.310001   \n",
       "2015-12-31 00:00:00+00:00     203.869995            0.0       55.480000   \n",
       "\n",
       "                           Equity([AAPL])  Equity([GOOG])  \n",
       "Date                                                       \n",
       "2012-01-03 00:00:00+00:00       14.686786      331.462585  \n",
       "2012-01-04 00:00:00+00:00       14.765714      332.892242  \n",
       "2012-01-05 00:00:00+00:00       14.929643      328.274536  \n",
       "2012-01-06 00:00:00+00:00       15.085714      323.796326  \n",
       "2012-01-09 00:00:00+00:00       15.061786      310.067780  \n",
       "...                                   ...             ...  \n",
       "2015-12-24 00:00:00+00:00       27.007500      748.400024  \n",
       "2015-12-28 00:00:00+00:00       26.705000      762.510010  \n",
       "2015-12-29 00:00:00+00:00       27.184999      776.599976  \n",
       "2015-12-30 00:00:00+00:00       26.830000      771.000000  \n",
       "2015-12-31 00:00:00+00:00       26.315001      758.880005  \n",
       "\n",
       "[1006 rows x 5 columns]"
      ]
     },
     "execution_count": 56,
     "metadata": {},
     "output_type": "execute_result"
    }
   ],
   "source": [
    "# Fill GOOG missing data with 0\n",
    "filled0_df_3 = df_3.fillna(0)\n",
    "filled0_df_3"
   ]
  },
  {
   "cell_type": "markdown",
   "metadata": {},
   "source": [
    "----"
   ]
  },
  {
   "cell_type": "markdown",
   "metadata": {},
   "source": [
    "# Exercise 8 : Time Series Analysis\n",
    "## a. Summary\n",
    "- Print out a summary of the `prices` DataFrame from above.\n",
    "- Take the log returns and print the first 10 values.\n",
    "- Print the multiplicative returns of each company.\n",
    "- Normalize and plot the returns from 2014 to 2015.\n",
    "- Plot a 60 day window rolling mean of the prices.\n",
    "- Plot a 60 day window rolling standfard deviation of the prices."
   ]
  },
  {
   "cell_type": "code",
   "execution_count": 58,
   "metadata": {},
   "outputs": [
    {
     "data": {
      "text/html": [
       "<div>\n",
       "<style scoped>\n",
       "    .dataframe tbody tr th:only-of-type {\n",
       "        vertical-align: middle;\n",
       "    }\n",
       "\n",
       "    .dataframe tbody tr th {\n",
       "        vertical-align: top;\n",
       "    }\n",
       "\n",
       "    .dataframe thead th {\n",
       "        text-align: right;\n",
       "    }\n",
       "</style>\n",
       "<table border=\"1\" class=\"dataframe\">\n",
       "  <thead>\n",
       "    <tr style=\"text-align: right;\">\n",
       "      <th></th>\n",
       "      <th>BP</th>\n",
       "      <th>COP</th>\n",
       "      <th>TOT</th>\n",
       "      <th>TSLA</th>\n",
       "    </tr>\n",
       "  </thead>\n",
       "  <tbody>\n",
       "    <tr>\n",
       "      <th>count</th>\n",
       "      <td>1006.000000</td>\n",
       "      <td>1006.000000</td>\n",
       "      <td>1006.000000</td>\n",
       "      <td>1006.000000</td>\n",
       "    </tr>\n",
       "    <tr>\n",
       "      <th>mean</th>\n",
       "      <td>42.466451</td>\n",
       "      <td>63.255591</td>\n",
       "      <td>54.068310</td>\n",
       "      <td>29.493241</td>\n",
       "    </tr>\n",
       "    <tr>\n",
       "      <th>std</th>\n",
       "      <td>4.734563</td>\n",
       "      <td>9.160613</td>\n",
       "      <td>7.140752</td>\n",
       "      <td>17.935438</td>\n",
       "    </tr>\n",
       "    <tr>\n",
       "      <th>min</th>\n",
       "      <td>29.379999</td>\n",
       "      <td>42.189999</td>\n",
       "      <td>42.139999</td>\n",
       "      <td>4.558000</td>\n",
       "    </tr>\n",
       "    <tr>\n",
       "      <th>25%</th>\n",
       "      <td>40.400002</td>\n",
       "      <td>56.495001</td>\n",
       "      <td>49.310001</td>\n",
       "      <td>7.017000</td>\n",
       "    </tr>\n",
       "    <tr>\n",
       "      <th>50%</th>\n",
       "      <td>42.160000</td>\n",
       "      <td>62.295000</td>\n",
       "      <td>51.910000</td>\n",
       "      <td>35.629999</td>\n",
       "    </tr>\n",
       "    <tr>\n",
       "      <th>75%</th>\n",
       "      <td>45.925000</td>\n",
       "      <td>69.332497</td>\n",
       "      <td>58.267500</td>\n",
       "      <td>45.421500</td>\n",
       "    </tr>\n",
       "    <tr>\n",
       "      <th>max</th>\n",
       "      <td>53.380001</td>\n",
       "      <td>86.760002</td>\n",
       "      <td>73.879997</td>\n",
       "      <td>57.208000</td>\n",
       "    </tr>\n",
       "  </tbody>\n",
       "</table>\n",
       "</div>"
      ],
      "text/plain": [
       "                BP          COP          TOT         TSLA\n",
       "count  1006.000000  1006.000000  1006.000000  1006.000000\n",
       "mean     42.466451    63.255591    54.068310    29.493241\n",
       "std       4.734563     9.160613     7.140752    17.935438\n",
       "min      29.379999    42.189999    42.139999     4.558000\n",
       "25%      40.400002    56.495001    49.310001     7.017000\n",
       "50%      42.160000    62.295000    51.910000    35.629999\n",
       "75%      45.925000    69.332497    58.267500    45.421500\n",
       "max      53.380001    86.760002    73.879997    57.208000"
      ]
     },
     "execution_count": 58,
     "metadata": {},
     "output_type": "execute_result"
    }
   ],
   "source": [
    "# Print a summary of the 'prices' times series.\n",
    "## Your code goes here\n",
    "prices.describe()"
   ]
  },
  {
   "cell_type": "code",
   "execution_count": 60,
   "metadata": {},
   "outputs": [
    {
     "data": {
      "text/html": [
       "<div>\n",
       "<style scoped>\n",
       "    .dataframe tbody tr th:only-of-type {\n",
       "        vertical-align: middle;\n",
       "    }\n",
       "\n",
       "    .dataframe tbody tr th {\n",
       "        vertical-align: top;\n",
       "    }\n",
       "\n",
       "    .dataframe thead th {\n",
       "        text-align: right;\n",
       "    }\n",
       "</style>\n",
       "<table border=\"1\" class=\"dataframe\">\n",
       "  <thead>\n",
       "    <tr style=\"text-align: right;\">\n",
       "      <th></th>\n",
       "      <th>BP</th>\n",
       "      <th>COP</th>\n",
       "      <th>TOT</th>\n",
       "      <th>TSLA</th>\n",
       "    </tr>\n",
       "    <tr>\n",
       "      <th>Date</th>\n",
       "      <th></th>\n",
       "      <th></th>\n",
       "      <th></th>\n",
       "      <th></th>\n",
       "    </tr>\n",
       "  </thead>\n",
       "  <tbody>\n",
       "    <tr>\n",
       "      <th>2012-01-03 00:00:00+00:00</th>\n",
       "      <td>3.787366</td>\n",
       "      <td>4.034966</td>\n",
       "      <td>3.960242</td>\n",
       "      <td>1.725620</td>\n",
       "    </tr>\n",
       "    <tr>\n",
       "      <th>2012-01-04 00:00:00+00:00</th>\n",
       "      <td>3.801091</td>\n",
       "      <td>4.030236</td>\n",
       "      <td>3.956423</td>\n",
       "      <td>1.712355</td>\n",
       "    </tr>\n",
       "    <tr>\n",
       "      <th>2012-01-05 00:00:00+00:00</th>\n",
       "      <td>3.789855</td>\n",
       "      <td>4.022212</td>\n",
       "      <td>3.935935</td>\n",
       "      <td>1.690834</td>\n",
       "    </tr>\n",
       "    <tr>\n",
       "      <th>2012-01-06 00:00:00+00:00</th>\n",
       "      <td>3.786006</td>\n",
       "      <td>4.014398</td>\n",
       "      <td>3.926912</td>\n",
       "      <td>1.683060</td>\n",
       "    </tr>\n",
       "    <tr>\n",
       "      <th>2012-01-09 00:00:00+00:00</th>\n",
       "      <td>3.785779</td>\n",
       "      <td>4.018244</td>\n",
       "      <td>3.936716</td>\n",
       "      <td>1.695616</td>\n",
       "    </tr>\n",
       "    <tr>\n",
       "      <th>2012-01-10 00:00:00+00:00</th>\n",
       "      <td>3.793014</td>\n",
       "      <td>4.022894</td>\n",
       "      <td>3.941776</td>\n",
       "      <td>1.709102</td>\n",
       "    </tr>\n",
       "    <tr>\n",
       "      <th>2012-01-11 00:00:00+00:00</th>\n",
       "      <td>3.785552</td>\n",
       "      <td>4.005412</td>\n",
       "      <td>3.928683</td>\n",
       "      <td>1.730947</td>\n",
       "    </tr>\n",
       "    <tr>\n",
       "      <th>2012-01-12 00:00:00+00:00</th>\n",
       "      <td>3.788725</td>\n",
       "      <td>3.987901</td>\n",
       "      <td>3.915417</td>\n",
       "      <td>1.731656</td>\n",
       "    </tr>\n",
       "    <tr>\n",
       "      <th>2012-01-13 00:00:00+00:00</th>\n",
       "      <td>3.778949</td>\n",
       "      <td>3.981947</td>\n",
       "      <td>3.904596</td>\n",
       "      <td>1.516884</td>\n",
       "    </tr>\n",
       "    <tr>\n",
       "      <th>2012-01-17 00:00:00+00:00</th>\n",
       "      <td>3.789629</td>\n",
       "      <td>3.988466</td>\n",
       "      <td>3.932022</td>\n",
       "      <td>1.671473</td>\n",
       "    </tr>\n",
       "  </tbody>\n",
       "</table>\n",
       "</div>"
      ],
      "text/plain": [
       "                                 BP       COP       TOT      TSLA\n",
       "Date                                                             \n",
       "2012-01-03 00:00:00+00:00  3.787366  4.034966  3.960242  1.725620\n",
       "2012-01-04 00:00:00+00:00  3.801091  4.030236  3.956423  1.712355\n",
       "2012-01-05 00:00:00+00:00  3.789855  4.022212  3.935935  1.690834\n",
       "2012-01-06 00:00:00+00:00  3.786006  4.014398  3.926912  1.683060\n",
       "2012-01-09 00:00:00+00:00  3.785779  4.018244  3.936716  1.695616\n",
       "2012-01-10 00:00:00+00:00  3.793014  4.022894  3.941776  1.709102\n",
       "2012-01-11 00:00:00+00:00  3.785552  4.005412  3.928683  1.730947\n",
       "2012-01-12 00:00:00+00:00  3.788725  3.987901  3.915417  1.731656\n",
       "2012-01-13 00:00:00+00:00  3.778949  3.981947  3.904596  1.516884\n",
       "2012-01-17 00:00:00+00:00  3.789629  3.988466  3.932022  1.671473"
      ]
     },
     "execution_count": 60,
     "metadata": {},
     "output_type": "execute_result"
    }
   ],
   "source": [
    "# Print the natural log returns of the first 10 values\n",
    "## Your code goes here\n",
    "np.log(prices).head(10)"
   ]
  },
  {
   "cell_type": "code",
   "execution_count": 61,
   "metadata": {},
   "outputs": [
    {
     "data": {
      "text/html": [
       "<div>\n",
       "<style scoped>\n",
       "    .dataframe tbody tr th:only-of-type {\n",
       "        vertical-align: middle;\n",
       "    }\n",
       "\n",
       "    .dataframe tbody tr th {\n",
       "        vertical-align: top;\n",
       "    }\n",
       "\n",
       "    .dataframe thead th {\n",
       "        text-align: right;\n",
       "    }\n",
       "</style>\n",
       "<table border=\"1\" class=\"dataframe\">\n",
       "  <thead>\n",
       "    <tr style=\"text-align: right;\">\n",
       "      <th></th>\n",
       "      <th>BP</th>\n",
       "      <th>COP</th>\n",
       "      <th>TOT</th>\n",
       "      <th>TSLA</th>\n",
       "    </tr>\n",
       "    <tr>\n",
       "      <th>Date</th>\n",
       "      <th></th>\n",
       "      <th></th>\n",
       "      <th></th>\n",
       "      <th></th>\n",
       "    </tr>\n",
       "  </thead>\n",
       "  <tbody>\n",
       "    <tr>\n",
       "      <th>2012-01-04 00:00:00+00:00</th>\n",
       "      <td>0.013820</td>\n",
       "      <td>-0.004719</td>\n",
       "      <td>-0.003812</td>\n",
       "      <td>-0.013177</td>\n",
       "    </tr>\n",
       "    <tr>\n",
       "      <th>2012-01-05 00:00:00+00:00</th>\n",
       "      <td>-0.011173</td>\n",
       "      <td>-0.007992</td>\n",
       "      <td>-0.020279</td>\n",
       "      <td>-0.021292</td>\n",
       "    </tr>\n",
       "    <tr>\n",
       "      <th>2012-01-06 00:00:00+00:00</th>\n",
       "      <td>-0.003842</td>\n",
       "      <td>-0.007784</td>\n",
       "      <td>-0.008983</td>\n",
       "      <td>-0.007743</td>\n",
       "    </tr>\n",
       "    <tr>\n",
       "      <th>2012-01-09 00:00:00+00:00</th>\n",
       "      <td>-0.000227</td>\n",
       "      <td>0.003854</td>\n",
       "      <td>0.009852</td>\n",
       "      <td>0.012635</td>\n",
       "    </tr>\n",
       "    <tr>\n",
       "      <th>2012-01-10 00:00:00+00:00</th>\n",
       "      <td>0.007261</td>\n",
       "      <td>0.004661</td>\n",
       "      <td>0.005073</td>\n",
       "      <td>0.013578</td>\n",
       "    </tr>\n",
       "    <tr>\n",
       "      <th>...</th>\n",
       "      <td>...</td>\n",
       "      <td>...</td>\n",
       "      <td>...</td>\n",
       "      <td>...</td>\n",
       "    </tr>\n",
       "    <tr>\n",
       "      <th>2015-12-24 00:00:00+00:00</th>\n",
       "      <td>-0.007110</td>\n",
       "      <td>-0.008974</td>\n",
       "      <td>-0.007569</td>\n",
       "      <td>0.003788</td>\n",
       "    </tr>\n",
       "    <tr>\n",
       "      <th>2015-12-28 00:00:00+00:00</th>\n",
       "      <td>-0.012765</td>\n",
       "      <td>-0.028813</td>\n",
       "      <td>-0.011331</td>\n",
       "      <td>-0.007026</td>\n",
       "    </tr>\n",
       "    <tr>\n",
       "      <th>2015-12-29 00:00:00+00:00</th>\n",
       "      <td>0.005046</td>\n",
       "      <td>0.012291</td>\n",
       "      <td>0.010580</td>\n",
       "      <td>0.035990</td>\n",
       "    </tr>\n",
       "    <tr>\n",
       "      <th>2015-12-30 00:00:00+00:00</th>\n",
       "      <td>-0.017571</td>\n",
       "      <td>-0.024492</td>\n",
       "      <td>-0.015049</td>\n",
       "      <td>0.003794</td>\n",
       "    </tr>\n",
       "    <tr>\n",
       "      <th>2015-12-31 00:00:00+00:00</th>\n",
       "      <td>-0.001597</td>\n",
       "      <td>0.001931</td>\n",
       "      <td>-0.004650</td>\n",
       "      <td>0.008064</td>\n",
       "    </tr>\n",
       "  </tbody>\n",
       "</table>\n",
       "<p>1005 rows × 4 columns</p>\n",
       "</div>"
      ],
      "text/plain": [
       "                                 BP       COP       TOT      TSLA\n",
       "Date                                                             \n",
       "2012-01-04 00:00:00+00:00  0.013820 -0.004719 -0.003812 -0.013177\n",
       "2012-01-05 00:00:00+00:00 -0.011173 -0.007992 -0.020279 -0.021292\n",
       "2012-01-06 00:00:00+00:00 -0.003842 -0.007784 -0.008983 -0.007743\n",
       "2012-01-09 00:00:00+00:00 -0.000227  0.003854  0.009852  0.012635\n",
       "2012-01-10 00:00:00+00:00  0.007261  0.004661  0.005073  0.013578\n",
       "...                             ...       ...       ...       ...\n",
       "2015-12-24 00:00:00+00:00 -0.007110 -0.008974 -0.007569  0.003788\n",
       "2015-12-28 00:00:00+00:00 -0.012765 -0.028813 -0.011331 -0.007026\n",
       "2015-12-29 00:00:00+00:00  0.005046  0.012291  0.010580  0.035990\n",
       "2015-12-30 00:00:00+00:00 -0.017571 -0.024492 -0.015049  0.003794\n",
       "2015-12-31 00:00:00+00:00 -0.001597  0.001931 -0.004650  0.008064\n",
       "\n",
       "[1005 rows x 4 columns]"
      ]
     },
     "execution_count": 61,
     "metadata": {},
     "output_type": "execute_result"
    }
   ],
   "source": [
    "# Print the Muliplicative returns \n",
    "## Your code goes here\n",
    "mult_returns = prices.pct_change()[1:]\n",
    "mult_returns"
   ]
  },
  {
   "cell_type": "code",
   "execution_count": 63,
   "metadata": {},
   "outputs": [
    {
     "data": {
      "image/png": "[encoded data removed]",
      "text/plain": [
       "<Figure size 432x288 with 1 Axes>"
      ]
     },
     "metadata": {
      "needs_background": "light"
     },
     "output_type": "display_data"
    }
   ],
   "source": [
    "# Normlalize the returns and plot \n",
    "## Your code goes here\n",
    "norm_returns = (mult_returns - mult_returns.mean(axis=0))/mult_returns.std(axis=0)\n",
    "norm_returns.loc['2014-01-01':'2015-01-01'].plot();"
   ]
  },
  {
   "cell_type": "code",
   "execution_count": 64,
   "metadata": {},
   "outputs": [
    {
     "data": {
      "image/png": "[encoded data removed]",
      "text/plain": [
       "<Figure size 432x288 with 1 Axes>"
      ]
     },
     "metadata": {
      "needs_background": "light"
     },
     "output_type": "display_data"
    },
    {
     "data": {
      "image/png": "[encoded data removed]",
      "text/plain": [
       "<Figure size 432x288 with 1 Axes>"
      ]
     },
     "metadata": {
      "needs_background": "light"
     },
     "output_type": "display_data"
    }
   ],
   "source": [
    "# Rolling mean\n",
    "rolling_mean = prices.rolling(window=60).mean()\n",
    "rolling_mean.columns = prices.columns\n",
    "\n",
    "# Rolling standard deviation\n",
    "rolling_std = prices.rolling(window=60).std()\n",
    "rolling_mean.columns = prices.columns\n",
    "\n",
    "# Plotting \n",
    "mean = rolling_mean.plot();\n",
    "plt.title(\"Rolling Mean of Prices\")\n",
    "plt.xlabel(\"Date\")\n",
    "plt.ylabel(\"Price\")\n",
    "plt.legend();\n",
    "\n",
    "std = rolling_std.plot();\n",
    "plt.title(\"Rolling standard deviation of Prices\")\n",
    "plt.xlabel(\"Date\")\n",
    "plt.ylabel(\"Price\")\n",
    "plt.legend();"
   ]
  },
  {
   "cell_type": "markdown",
   "metadata": {},
   "source": [
    "---"
   ]
  },
  {
   "cell_type": "markdown",
   "metadata": {},
   "source": [
    "Congratulations on completing the Introduction to pandas exercises!\n",
    "\n",
    "As you learn more about writing trading algorithms and the Quantopian platform, be sure to check out the daily [Quantopian Contest](https://www.quantopian.com/contest), in which you can compete for a cash prize every day.\n",
    "\n",
    "Start by going through the [Writing a Contest Algorithm](https://www.quantopian.com/tutorials/contest) Tutorial."
   ]
  },
  {
   "cell_type": "markdown",
   "metadata": {},
   "source": [
    "*This presentation is for informational purposes only and does not constitute an offer to sell, a solicitation to buy, or a recommendation for any security; nor does it constitute an offer to provide investment advisory or other services by Quantopian, Inc. (\"Quantopian\"). Nothing contained herein constitutes investment advice or offers any opinion with respect to the suitability of any security, and any views expressed herein should not be taken as advice to buy, sell, or hold any security or as an endorsement of any security or company.  In preparing the information contained herein, Quantopian, Inc. has not taken into account the investment needs, objectives, and financial circumstances of any particular investor. Any views expressed and data illustrated herein were prepared based upon information, believed to be reliable, available to Quantopian, Inc. at the time of publication. Quantopian makes no guarantees as to their accuracy or completeness. All information is subject to change and may quickly become unreliable for various reasons, including changes in market conditions or economic circumstances.*"
   ]
  }
 ],
 "metadata": {
  "kernelspec": {
   "display_name": "Python 3",
   "language": "python",
   "name": "python3"
  },
  "language_info": {
   "codemirror_mode": {
    "name": "ipython",
    "version": 3
   },
   "file_extension": ".py",
   "mimetype": "text/x-python",
   "name": "python",
   "nbconvert_exporter": "python",
   "pygments_lexer": "ipython3",
   "version": "3.7.7"
  }
 },
 "nbformat": 4,
 "nbformat_minor": 2
}
